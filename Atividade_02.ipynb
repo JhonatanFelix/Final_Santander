{
 "cells": [
  {
   "cell_type": "markdown",
   "id": "23138ed9",
   "metadata": {},
   "source": [
    "## Atividade 02"
   ]
  },
  {
   "cell_type": "markdown",
   "id": "cbcef764",
   "metadata": {},
   "source": [
    "Vamos praticar a criação de várias expectativas para um dataset público. \n",
    "Para isso, vamos utilizar o dataset Titanic disponível no Kaggle. \n",
    "Este dataset contém informações sobre os passageiros do navio Titanic, incluindo informações como nome, idade, sexo, classe da cabine e se sobreviveram ou não ao naufrágio."
   ]
  },
  {
   "cell_type": "markdown",
   "id": "2faaaa42",
   "metadata": {},
   "source": [
    "### 1. Importando os dados"
   ]
  },
  {
   "cell_type": "markdown",
   "id": "b834df98",
   "metadata": {},
   "source": [
    "1.1 Crie um objeto DataContext"
   ]
  },
  {
   "cell_type": "code",
   "execution_count": 1,
   "id": "7cdcc5e7",
   "metadata": {},
   "outputs": [],
   "source": [
    "import great_expectations as gx\n",
    "\n",
    "context = gx.get_context()"
   ]
  },
  {
   "cell_type": "markdown",
   "id": "5c8cb693",
   "metadata": {},
   "source": [
    "1.2 Salve o Contexto de Dados no Sistema de Arquivos"
   ]
  },
  {
   "cell_type": "code",
   "execution_count": 2,
   "id": "9573da41",
   "metadata": {},
   "outputs": [
    {
     "data": {
      "text/plain": [
       "{\n",
       "  \"anonymous_usage_statistics\": {\n",
       "    \"usage_statistics_url\": \"https://stats.greatexpectations.io/great_expectations/v1/usage_statistics\",\n",
       "    \"data_context_id\": \"b6d92593-3e57-4533-822d-94f8ec3c5cc2\",\n",
       "    \"enabled\": true,\n",
       "    \"explicit_id\": true,\n",
       "    \"explicit_url\": false\n",
       "  },\n",
       "  \"checkpoint_store_name\": \"checkpoint_store\",\n",
       "  \"config_variables_file_path\": \"uncommitted/config_variables.yml\",\n",
       "  \"config_version\": 3.0,\n",
       "  \"data_docs_sites\": {\n",
       "    \"local_site\": {\n",
       "      \"class_name\": \"SiteBuilder\",\n",
       "      \"show_how_to_buttons\": true,\n",
       "      \"store_backend\": {\n",
       "        \"class_name\": \"TupleFilesystemStoreBackend\",\n",
       "        \"base_directory\": \"uncommitted\\\\data_docs\\\\local_site\"\n",
       "      },\n",
       "      \"site_index_builder\": {\n",
       "        \"class_name\": \"DefaultSiteIndexBuilder\"\n",
       "      }\n",
       "    }\n",
       "  },\n",
       "  \"datasources\": {},\n",
       "  \"evaluation_parameter_store_name\": \"evaluation_parameter_store\",\n",
       "  \"expectations_store_name\": \"expectations_store\",\n",
       "  \"include_rendered_content\": {\n",
       "    \"expectation_validation_result\": false,\n",
       "    \"expectation_suite\": false,\n",
       "    \"globally\": false\n",
       "  },\n",
       "  \"plugins_directory\": \"plugins/\",\n",
       "  \"stores\": {\n",
       "    \"expectations_store\": {\n",
       "      \"class_name\": \"ExpectationsStore\",\n",
       "      \"store_backend\": {\n",
       "        \"class_name\": \"TupleFilesystemStoreBackend\",\n",
       "        \"base_directory\": \"expectations/\"\n",
       "      }\n",
       "    },\n",
       "    \"validations_store\": {\n",
       "      \"class_name\": \"ValidationsStore\",\n",
       "      \"store_backend\": {\n",
       "        \"class_name\": \"TupleFilesystemStoreBackend\",\n",
       "        \"base_directory\": \"uncommitted/validations/\"\n",
       "      }\n",
       "    },\n",
       "    \"evaluation_parameter_store\": {\n",
       "      \"class_name\": \"EvaluationParameterStore\"\n",
       "    },\n",
       "    \"checkpoint_store\": {\n",
       "      \"class_name\": \"CheckpointStore\",\n",
       "      \"store_backend\": {\n",
       "        \"class_name\": \"TupleFilesystemStoreBackend\",\n",
       "        \"suppress_store_backend_id\": true,\n",
       "        \"base_directory\": \"checkpoints/\"\n",
       "      }\n",
       "    },\n",
       "    \"profiler_store\": {\n",
       "      \"class_name\": \"ProfilerStore\",\n",
       "      \"store_backend\": {\n",
       "        \"class_name\": \"TupleFilesystemStoreBackend\",\n",
       "        \"suppress_store_backend_id\": true,\n",
       "        \"base_directory\": \"profilers/\"\n",
       "      }\n",
       "    }\n",
       "  },\n",
       "  \"validations_store_name\": \"validations_store\"\n",
       "}"
      ]
     },
     "execution_count": 2,
     "metadata": {},
     "output_type": "execute_result"
    }
   ],
   "source": [
    "context"
   ]
  },
  {
   "cell_type": "markdown",
   "id": "c76e8eed",
   "metadata": {},
   "source": [
    "1.3 Crie um validator e carregue o dataset Titanic: https://storage.googleapis.com/tf-datasets/titanic/train.csv"
   ]
  },
  {
   "cell_type": "code",
   "execution_count": 3,
   "id": "98950c89",
   "metadata": {},
   "outputs": [],
   "source": [
    "validator = context.sources.pandas_default.read_csv(\n",
    "    'data/train.csv'\n",
    ")"
   ]
  },
  {
   "cell_type": "code",
   "execution_count": 4,
   "id": "c2bc77cb",
   "metadata": {},
   "outputs": [
    {
     "data": {
      "text/plain": [
       "<great_expectations.validator.validator.Validator at 0x15dc1e902b0>"
      ]
     },
     "execution_count": 4,
     "metadata": {},
     "output_type": "execute_result"
    }
   ],
   "source": [
    "validator"
   ]
  },
  {
   "cell_type": "markdown",
   "id": "d5730ec2",
   "metadata": {},
   "source": [
    "### 2. Definindo expectativas"
   ]
  },
  {
   "cell_type": "markdown",
   "id": "f547f924",
   "metadata": {},
   "source": [
    "Agora que temos o dataframe, podemos começar a criar expectativas sobre os dados. "
   ]
  },
  {
   "cell_type": "markdown",
   "id": "ec091cea",
   "metadata": {},
   "source": [
    "2.1 Crie uma expectativa que defina que as colunas do dataframe estão na ordem correta. "
   ]
  },
  {
   "cell_type": "code",
   "execution_count": 5,
   "id": "4b0b3fb5",
   "metadata": {},
   "outputs": [
    {
     "data": {
      "application/vnd.jupyter.widget-view+json": {
       "model_id": "0ab99384ade54331bf43ff1c627ee916",
       "version_major": 2,
       "version_minor": 0
      },
      "text/plain": [
       "Calculating Metrics:   0%|          | 0/2 [00:00<?, ?it/s]"
      ]
     },
     "metadata": {},
     "output_type": "display_data"
    },
    {
     "data": {
      "application/vnd.jupyter.widget-view+json": {
       "model_id": "3984af162ff14634a6e427e206dcab0c",
       "version_major": 2,
       "version_minor": 0
      },
      "text/plain": [
       "Calculating Metrics:   0%|          | 0/2 [00:00<?, ?it/s]"
      ]
     },
     "metadata": {},
     "output_type": "display_data"
    },
    {
     "data": {
      "text/plain": [
       "{\n",
       "  \"result\": {\n",
       "    \"observed_value\": [\n",
       "      \"survived\",\n",
       "      \"sex\",\n",
       "      \"age\",\n",
       "      \"n_siblings_spouses\",\n",
       "      \"parch\",\n",
       "      \"fare\",\n",
       "      \"class\",\n",
       "      \"deck\",\n",
       "      \"embark_town\",\n",
       "      \"alone\"\n",
       "    ]\n",
       "  },\n",
       "  \"success\": true,\n",
       "  \"exception_info\": {\n",
       "    \"raised_exception\": false,\n",
       "    \"exception_traceback\": null,\n",
       "    \"exception_message\": null\n",
       "  },\n",
       "  \"meta\": {}\n",
       "}"
      ]
     },
     "execution_count": 5,
     "metadata": {},
     "output_type": "execute_result"
    }
   ],
   "source": [
    "cols_names = validator.columns()\n",
    "\n",
    "validator.expect_table_columns_to_match_ordered_list(cols_names)"
   ]
  },
  {
   "cell_type": "markdown",
   "id": "a1c9913c",
   "metadata": {},
   "source": [
    "2.2 Agora crie uma expectativa para verificar se os valores da coluna \"Survived\" só podem ser 0 ou 1. "
   ]
  },
  {
   "cell_type": "code",
   "execution_count": 7,
   "id": "dd124c39",
   "metadata": {},
   "outputs": [
    {
     "data": {
      "application/vnd.jupyter.widget-view+json": {
       "model_id": "ae79ddc66f5b4baa94fe7364a52f965e",
       "version_major": 2,
       "version_minor": 0
      },
      "text/plain": [
       "Calculating Metrics:   0%|          | 0/8 [00:00<?, ?it/s]"
      ]
     },
     "metadata": {},
     "output_type": "display_data"
    },
    {
     "data": {
      "text/plain": [
       "{\n",
       "  \"result\": {\n",
       "    \"element_count\": 627,\n",
       "    \"unexpected_count\": 0,\n",
       "    \"unexpected_percent\": 0.0,\n",
       "    \"partial_unexpected_list\": [],\n",
       "    \"missing_count\": 0,\n",
       "    \"missing_percent\": 0.0,\n",
       "    \"unexpected_percent_total\": 0.0,\n",
       "    \"unexpected_percent_nonmissing\": 0.0\n",
       "  },\n",
       "  \"success\": true,\n",
       "  \"exception_info\": {\n",
       "    \"raised_exception\": false,\n",
       "    \"exception_traceback\": null,\n",
       "    \"exception_message\": null\n",
       "  },\n",
       "  \"meta\": {}\n",
       "}"
      ]
     },
     "execution_count": 7,
     "metadata": {},
     "output_type": "execute_result"
    }
   ],
   "source": [
    "validator.expect_column_values_to_be_in_set(column=\"Survived\", \n",
    "                                            value_set=[0, 1])"
   ]
  },
  {
   "cell_type": "markdown",
   "id": "b54e26a6",
   "metadata": {},
   "source": [
    "2.3 Defina que a coluna \"Pclass\" só pode ter valores de 1 a 3. "
   ]
  },
  {
   "cell_type": "code",
   "execution_count": 8,
   "id": "5599b71c",
   "metadata": {},
   "outputs": [
    {
     "data": {
      "application/vnd.jupyter.widget-view+json": {
       "model_id": "4cb3e841d3cb4ded954bec68d73747d3",
       "version_major": 2,
       "version_minor": 0
      },
      "text/plain": [
       "Calculating Metrics:   0%|          | 0/8 [00:00<?, ?it/s]"
      ]
     },
     "metadata": {},
     "output_type": "display_data"
    },
    {
     "data": {
      "text/plain": [
       "{\n",
       "  \"result\": {\n",
       "    \"element_count\": 627,\n",
       "    \"unexpected_count\": 627,\n",
       "    \"unexpected_percent\": 100.0,\n",
       "    \"partial_unexpected_list\": [\n",
       "      \"Third\",\n",
       "      \"First\",\n",
       "      \"Third\",\n",
       "      \"First\",\n",
       "      \"Third\",\n",
       "      \"Third\",\n",
       "      \"Third\",\n",
       "      \"Second\",\n",
       "      \"Third\",\n",
       "      \"Third\",\n",
       "      \"Third\",\n",
       "      \"Third\",\n",
       "      \"Third\",\n",
       "      \"Second\",\n",
       "      \"Third\",\n",
       "      \"Third\",\n",
       "      \"Second\",\n",
       "      \"First\",\n",
       "      \"Third\",\n",
       "      \"Third\"\n",
       "    ],\n",
       "    \"missing_count\": 0,\n",
       "    \"missing_percent\": 0.0,\n",
       "    \"unexpected_percent_total\": 100.0,\n",
       "    \"unexpected_percent_nonmissing\": 100.0\n",
       "  },\n",
       "  \"success\": false,\n",
       "  \"exception_info\": {\n",
       "    \"raised_exception\": false,\n",
       "    \"exception_traceback\": null,\n",
       "    \"exception_message\": null\n",
       "  },\n",
       "  \"meta\": {}\n",
       "}"
      ]
     },
     "execution_count": 8,
     "metadata": {},
     "output_type": "execute_result"
    }
   ],
   "source": [
    "validator.expect_column_values_to_be_in_set(column=\"class\", \n",
    "                                            value_set=[1, 2, 3])\n"
   ]
  },
  {
   "cell_type": "markdown",
   "id": "76105e56",
   "metadata": {},
   "source": [
    "2.4 Crie expectativas para verificar se as colunas \"Survived\" e \"Pclass\" existem no dataframe."
   ]
  },
  {
   "cell_type": "code",
   "execution_count": 9,
   "id": "46690b23",
   "metadata": {},
   "outputs": [
    {
     "data": {
      "application/vnd.jupyter.widget-view+json": {
       "model_id": "f97a4816945a4aa4b85d70e860e608b8",
       "version_major": 2,
       "version_minor": 0
      },
      "text/plain": [
       "Calculating Metrics:   0%|          | 0/2 [00:00<?, ?it/s]"
      ]
     },
     "metadata": {},
     "output_type": "display_data"
    },
    {
     "data": {
      "application/vnd.jupyter.widget-view+json": {
       "model_id": "fde3619c9bec4fd3adfb606c5c3a7fa2",
       "version_major": 2,
       "version_minor": 0
      },
      "text/plain": [
       "Calculating Metrics:   0%|          | 0/2 [00:00<?, ?it/s]"
      ]
     },
     "metadata": {},
     "output_type": "display_data"
    },
    {
     "data": {
      "text/plain": [
       "{\n",
       "  \"result\": {},\n",
       "  \"success\": false,\n",
       "  \"exception_info\": {\n",
       "    \"raised_exception\": false,\n",
       "    \"exception_traceback\": null,\n",
       "    \"exception_message\": null\n",
       "  },\n",
       "  \"meta\": {}\n",
       "}"
      ]
     },
     "execution_count": 9,
     "metadata": {},
     "output_type": "execute_result"
    }
   ],
   "source": [
    "validator.expect_column_to_exist(\"survived\")\n",
    "validator.expect_column_to_exist(\"Pclass\")"
   ]
  },
  {
   "cell_type": "markdown",
   "id": "ae22121f",
   "metadata": {},
   "source": [
    "2.5 Verifique se os valores das colunas \"Age\" e \"Fare\" não são nulos e se estão dentro de um intervalo razoável (0 a 100 para \"Age\" w 0 a 100 para \"Fare\"."
   ]
  },
  {
   "cell_type": "code",
   "execution_count": 11,
   "id": "e0d1c2c6",
   "metadata": {},
   "outputs": [
    {
     "data": {
      "application/vnd.jupyter.widget-view+json": {
       "model_id": "d31386b8518c4d4793a736065b87832c",
       "version_major": 2,
       "version_minor": 0
      },
      "text/plain": [
       "Calculating Metrics:   0%|          | 0/6 [00:00<?, ?it/s]"
      ]
     },
     "metadata": {},
     "output_type": "display_data"
    },
    {
     "data": {
      "application/vnd.jupyter.widget-view+json": {
       "model_id": "e182650104bf43e9bca902e1d34268ed",
       "version_major": 2,
       "version_minor": 0
      },
      "text/plain": [
       "Calculating Metrics:   0%|          | 0/6 [00:00<?, ?it/s]"
      ]
     },
     "metadata": {},
     "output_type": "display_data"
    },
    {
     "data": {
      "application/vnd.jupyter.widget-view+json": {
       "model_id": "ade07a086d224069a2470ffb94d99e0c",
       "version_major": 2,
       "version_minor": 0
      },
      "text/plain": [
       "Calculating Metrics:   0%|          | 0/8 [00:00<?, ?it/s]"
      ]
     },
     "metadata": {},
     "output_type": "display_data"
    },
    {
     "data": {
      "application/vnd.jupyter.widget-view+json": {
       "model_id": "4ea80d58c6114f8c88ef2a30dbbded5b",
       "version_major": 2,
       "version_minor": 0
      },
      "text/plain": [
       "Calculating Metrics:   0%|          | 0/8 [00:00<?, ?it/s]"
      ]
     },
     "metadata": {},
     "output_type": "display_data"
    },
    {
     "data": {
      "text/plain": [
       "{\n",
       "  \"result\": {\n",
       "    \"element_count\": 627,\n",
       "    \"unexpected_count\": 43,\n",
       "    \"unexpected_percent\": 6.8580542264752795,\n",
       "    \"partial_unexpected_list\": [\n",
       "      263.0,\n",
       "      146.5208,\n",
       "      263.0,\n",
       "      247.5208,\n",
       "      146.5208,\n",
       "      113.275,\n",
       "      512.3292,\n",
       "      153.4625,\n",
       "      135.6333,\n",
       "      247.5208,\n",
       "      110.8833,\n",
       "      108.9,\n",
       "      262.375,\n",
       "      164.8667,\n",
       "      134.5,\n",
       "      135.6333,\n",
       "      153.4625,\n",
       "      133.65,\n",
       "      211.5,\n",
       "      227.525\n",
       "    ],\n",
       "    \"missing_count\": 0,\n",
       "    \"missing_percent\": 0.0,\n",
       "    \"unexpected_percent_total\": 6.8580542264752795,\n",
       "    \"unexpected_percent_nonmissing\": 6.8580542264752795\n",
       "  },\n",
       "  \"success\": false,\n",
       "  \"exception_info\": {\n",
       "    \"raised_exception\": false,\n",
       "    \"exception_traceback\": null,\n",
       "    \"exception_message\": null\n",
       "  },\n",
       "  \"meta\": {}\n",
       "}"
      ]
     },
     "execution_count": 11,
     "metadata": {},
     "output_type": "execute_result"
    }
   ],
   "source": [
    "validator.expect_column_values_to_not_be_null(column='Age')\n",
    "validator.expect_column_values_to_not_be_null(column='Fare')\n",
    "\n",
    "validator.expect_column_values_to_be_between(column='Age', min_value=0, max_value=100)\n",
    "validator.expect_column_values_to_be_between(column='Fare', min_value=0, max_value=100)"
   ]
  },
  {
   "cell_type": "markdown",
   "id": "dbe9d33b",
   "metadata": {},
   "source": [
    "2.6 Define que a coluna \"Sex\" só pode ter os valores \"male\" ou \"female\"."
   ]
  },
  {
   "cell_type": "code",
   "execution_count": 12,
   "id": "42691be5",
   "metadata": {},
   "outputs": [
    {
     "data": {
      "application/vnd.jupyter.widget-view+json": {
       "model_id": "23a87b91b418445fb3e39d24ccc56e93",
       "version_major": 2,
       "version_minor": 0
      },
      "text/plain": [
       "Calculating Metrics:   0%|          | 0/8 [00:00<?, ?it/s]"
      ]
     },
     "metadata": {},
     "output_type": "display_data"
    },
    {
     "data": {
      "text/plain": [
       "{\n",
       "  \"result\": {\n",
       "    \"element_count\": 627,\n",
       "    \"unexpected_count\": 0,\n",
       "    \"unexpected_percent\": 0.0,\n",
       "    \"partial_unexpected_list\": [],\n",
       "    \"missing_count\": 0,\n",
       "    \"missing_percent\": 0.0,\n",
       "    \"unexpected_percent_total\": 0.0,\n",
       "    \"unexpected_percent_nonmissing\": 0.0\n",
       "  },\n",
       "  \"success\": true,\n",
       "  \"exception_info\": {\n",
       "    \"raised_exception\": false,\n",
       "    \"exception_traceback\": null,\n",
       "    \"exception_message\": null\n",
       "  },\n",
       "  \"meta\": {}\n",
       "}"
      ]
     },
     "execution_count": 12,
     "metadata": {},
     "output_type": "execute_result"
    }
   ],
   "source": [
    "validator.expect_column_values_to_be_in_set(\n",
    "    column='Sex',\n",
    "    value_set=['male', 'female'])"
   ]
  },
  {
   "cell_type": "markdown",
   "id": "35a0f4be",
   "metadata": {},
   "source": [
    "### 3. Executando as Expectativas"
   ]
  },
  {
   "cell_type": "markdown",
   "id": "6a430083",
   "metadata": {},
   "source": [
    "3.1 Defina um Checkpoint e execute-o para receber os resultados do validator."
   ]
  },
  {
   "cell_type": "code",
   "execution_count": 13,
   "id": "87dec4b2",
   "metadata": {},
   "outputs": [],
   "source": [
    "checkpoint = gx.checkpoint.SimpleCheckpoint( \n",
    "    name=\"checkpoint_atividade_02\",\n",
    "    data_context=context,\n",
    "    validator=validator,)"
   ]
  },
  {
   "cell_type": "code",
   "execution_count": 14,
   "id": "44214afa",
   "metadata": {},
   "outputs": [
    {
     "data": {
      "application/vnd.jupyter.widget-view+json": {
       "model_id": "0d21e80a278c4394a1a990d21f31209f",
       "version_major": 2,
       "version_minor": 0
      },
      "text/plain": [
       "Calculating Metrics:   0%|          | 0/58 [00:00<?, ?it/s]"
      ]
     },
     "metadata": {},
     "output_type": "display_data"
    }
   ],
   "source": [
    "checkpoint_result = checkpoint.run()\n",
    "validation_result_identifier = checkpoint_result.list_validation_result_identifiers()[0]\n",
    "context.open_data_docs(resource_identifier=validation_result_identifier)"
   ]
  }
 ],
 "metadata": {
  "kernelspec": {
   "display_name": "Python 3",
   "language": "python",
   "name": "python3"
  },
  "language_info": {
   "codemirror_mode": {
    "name": "ipython",
    "version": 3
   },
   "file_extension": ".py",
   "mimetype": "text/x-python",
   "name": "python",
   "nbconvert_exporter": "python",
   "pygments_lexer": "ipython3",
   "version": "3.9.13"
  },
  "vscode": {
   "interpreter": {
    "hash": "e165e5db8035c5397e8e313c96af616fd759767748d87c04c9f5e10228c9d6c6"
   }
  }
 },
 "nbformat": 4,
 "nbformat_minor": 5
}
